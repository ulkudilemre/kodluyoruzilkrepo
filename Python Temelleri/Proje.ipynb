{
 "cells": [
  {
   "cell_type": "markdown",
   "metadata": {},
   "source": [
    "1. Bir listeyi düzleştiren (flatten) fonksiyon yazın. Elemanları birden çok katmanlı listelerden ([[3],2] gibi) oluşabileceği gibi, non-scalar verilerden de oluşabilir. Örnek olarak:\n",
    "\n",
    "    input: [[1,'a',['cat'],2],[[[3]],'dog'],4,5]\n",
    "\n",
    "    output: [1,'a','cat',2,3,'dog',4,5]"
   ]
  },
  {
   "cell_type": "code",
   "execution_count": 52,
   "metadata": {},
   "outputs": [],
   "source": [
    "def flat(arr):\n",
    "    \"\"\"\n",
    "        Listeleri düzleştiren recursive bir fonksiyon.\n",
    "\n",
    "        input:\n",
    "            arr: herhangi bir boyutta liste\n",
    "        output: \n",
    "            liste geri döndürür\n",
    "    \"\"\"\n",
    "    if type(arr) is list:\n",
    "        return [element for item in arr for element in flat(item)]\n",
    "    else:\n",
    "        return [arr]\n"
   ]
  },
  {
   "cell_type": "markdown",
   "metadata": {},
   "source": [
    "2. Verilen listenin içindeki elemanları tersine döndüren bir fonksiyon yazın. Eğer listenin içindeki elemanlar da liste içeriyorsa onların elemanlarını da tersine döndürün. Örnek olarak:\n",
    "\n",
    "    input: [[1,2], [3,4], [5,6,7]]\n",
    "\n",
    "    output: [[7,6,5], [4,3], [2,1]]"
   ]
  },
  {
   "cell_type": "code",
   "execution_count": 53,
   "metadata": {},
   "outputs": [],
   "source": [
    "def reverse(arr):\n",
    "    return arr[::-1]"
   ]
  },
  {
   "cell_type": "code",
   "execution_count": 54,
   "metadata": {},
   "outputs": [
    {
     "name": "stdout",
     "output_type": "stream",
     "text": [
      "1. deneme \n",
      " input  = [] \n",
      " flat output = [] \n",
      " reverse output = []\n",
      "\n",
      "2. deneme \n",
      " input  = [[1, 'a', ['cat'], 2], [[[3]], 'dog'], 4, 5] \n",
      " flat output = [1, 'a', 'cat', 2, 3, 'dog', 4, 5] \n",
      " reverse output = [5, 4, [[[3]], 'dog'], [1, 'a', ['cat'], 2]]\n",
      "\n",
      "3. deneme \n",
      " input  = [[1, 2], [3, 4], [5, 6, 7]] \n",
      " flat output = [1, 2, 3, 4, 5, 6, 7] \n",
      " reverse output = [[5, 6, 7], [3, 4], [1, 2]]\n",
      "\n"
     ]
    }
   ],
   "source": [
    "def prnt(idx, list):\n",
    "    print(f\"{idx}. deneme \\n input  = {list} \\n flat output = {flat(list)} \\n reverse output = {reverse(list)}\\n\")\n",
    "\n",
    "\n",
    "lst = []\n",
    "lst2 = [[1,'a',['cat'],2],[[[3]],'dog'],4,5]\n",
    "lst3 = [[1,2], [3,4], [5,6,7]]\n",
    "\n",
    "for idx, lst in enumerate([lst, lst2, lst3]):\n",
    "    prnt(idx+1, lst)\n"
   ]
  }
 ],
 "metadata": {
  "kernelspec": {
   "display_name": "Python 3.9.7 ('base')",
   "language": "python",
   "name": "python3"
  },
  "language_info": {
   "codemirror_mode": {
    "name": "ipython",
    "version": 3
   },
   "file_extension": ".py",
   "mimetype": "text/x-python",
   "name": "python",
   "nbconvert_exporter": "python",
   "pygments_lexer": "ipython3",
   "version": "3.9.7"
  },
  "orig_nbformat": 4,
  "vscode": {
   "interpreter": {
    "hash": "ee47ce7126773fb23b6daedd517e2656aa3389c0f446e5c9e9f7325e8ed7e0df"
   }
  }
 },
 "nbformat": 4,
 "nbformat_minor": 2
}
