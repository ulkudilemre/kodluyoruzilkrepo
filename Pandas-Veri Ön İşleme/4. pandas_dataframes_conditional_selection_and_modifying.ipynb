{
 "cells": [
  {
   "cell_type": "code",
   "execution_count": 2,
   "metadata": {},
   "outputs": [],
   "source": [
    "import pandas as pd\n",
    "import numpy as np"
   ]
  },
  {
   "cell_type": "code",
   "execution_count": 3,
   "metadata": {},
   "outputs": [
    {
     "data": {
      "text/html": [
       "<div>\n",
       "<style scoped>\n",
       "    .dataframe tbody tr th:only-of-type {\n",
       "        vertical-align: middle;\n",
       "    }\n",
       "\n",
       "    .dataframe tbody tr th {\n",
       "        vertical-align: top;\n",
       "    }\n",
       "\n",
       "    .dataframe thead th {\n",
       "        text-align: right;\n",
       "    }\n",
       "</style>\n",
       "<table border=\"1\" class=\"dataframe\">\n",
       "  <thead>\n",
       "    <tr style=\"text-align: right;\">\n",
       "      <th></th>\n",
       "      <th>atak</th>\n",
       "      <th>savunma</th>\n",
       "      <th>hız</th>\n",
       "      <th>tür</th>\n",
       "    </tr>\n",
       "  </thead>\n",
       "  <tbody>\n",
       "    <tr>\n",
       "      <th>Bulbasaur</th>\n",
       "      <td>49</td>\n",
       "      <td>49</td>\n",
       "      <td>45</td>\n",
       "      <td>ot</td>\n",
       "    </tr>\n",
       "    <tr>\n",
       "      <th>Charmander</th>\n",
       "      <td>52</td>\n",
       "      <td>43</td>\n",
       "      <td>65</td>\n",
       "      <td>ateş</td>\n",
       "    </tr>\n",
       "    <tr>\n",
       "      <th>Squirtle</th>\n",
       "      <td>48</td>\n",
       "      <td>65</td>\n",
       "      <td>43</td>\n",
       "      <td>su</td>\n",
       "    </tr>\n",
       "    <tr>\n",
       "      <th>Pikachu</th>\n",
       "      <td>55</td>\n",
       "      <td>40</td>\n",
       "      <td>90</td>\n",
       "      <td>elektrik</td>\n",
       "    </tr>\n",
       "    <tr>\n",
       "      <th>Onix</th>\n",
       "      <td>45</td>\n",
       "      <td>160</td>\n",
       "      <td>70</td>\n",
       "      <td>kaya</td>\n",
       "    </tr>\n",
       "  </tbody>\n",
       "</table>\n",
       "</div>"
      ],
      "text/plain": [
       "            atak  savunma  hız       tür\n",
       "Bulbasaur     49       49   45        ot\n",
       "Charmander    52       43   65      ateş\n",
       "Squirtle      48       65   43        su\n",
       "Pikachu       55       40   90  elektrik\n",
       "Onix          45      160   70      kaya"
      ]
     },
     "execution_count": 3,
     "metadata": {},
     "output_type": "execute_result"
    }
   ],
   "source": [
    "pokemon = pd.DataFrame({\n",
    "        'atak': [49, 52, 48, 55, 45],\n",
    "        'savunma': [49, 43, 65, 40, 160],\n",
    "        'hız': [45, 65, 43, 90, 70],\n",
    "        'tür': ['ot', 'ateş', 'su', 'elektrik', 'kaya']\n",
    "    },\n",
    "    index=[\"Bulbasaur\", \"Charmander\", \"Squirtle\", \"Pikachu\", \"Onix\"]\n",
    ")\n",
    "\n",
    "pokemon"
   ]
  },
  {
   "cell_type": "markdown",
   "metadata": {},
   "source": [
    "# DataFrames: Koşullu Seçim ve Değiştirme\n",
    "\n",
    "## Koşullu Seçim\n",
    "Koşullu seçimi dataframe'de de serideki gibi yapabiliriz. Boolean seçim yapalım. Örneğin, hızı 60'dan büyük olan pokemonlara bakalım:"
   ]
  },
  {
   "cell_type": "code",
   "execution_count": 4,
   "metadata": {},
   "outputs": [
    {
     "data": {
      "text/plain": [
       "Bulbasaur     False\n",
       "Charmander     True\n",
       "Squirtle      False\n",
       "Pikachu        True\n",
       "Onix           True\n",
       "Name: hız, dtype: bool"
      ]
     },
     "execution_count": 4,
     "metadata": {},
     "output_type": "execute_result"
    }
   ],
   "source": [
    "pokemon[\"hız\"] > 60"
   ]
  },
  {
   "cell_type": "markdown",
   "metadata": {},
   "source": [
    "Şimdi bu pokemonları dataframe üzerinde seçelim ve yazdıralım:"
   ]
  },
  {
   "cell_type": "code",
   "execution_count": 6,
   "metadata": {},
   "outputs": [
    {
     "data": {
      "text/html": [
       "<div>\n",
       "<style scoped>\n",
       "    .dataframe tbody tr th:only-of-type {\n",
       "        vertical-align: middle;\n",
       "    }\n",
       "\n",
       "    .dataframe tbody tr th {\n",
       "        vertical-align: top;\n",
       "    }\n",
       "\n",
       "    .dataframe thead th {\n",
       "        text-align: right;\n",
       "    }\n",
       "</style>\n",
       "<table border=\"1\" class=\"dataframe\">\n",
       "  <thead>\n",
       "    <tr style=\"text-align: right;\">\n",
       "      <th></th>\n",
       "      <th>atak</th>\n",
       "      <th>savunma</th>\n",
       "      <th>hız</th>\n",
       "      <th>tür</th>\n",
       "    </tr>\n",
       "  </thead>\n",
       "  <tbody>\n",
       "    <tr>\n",
       "      <th>Charmander</th>\n",
       "      <td>52</td>\n",
       "      <td>43</td>\n",
       "      <td>65</td>\n",
       "      <td>ateş</td>\n",
       "    </tr>\n",
       "    <tr>\n",
       "      <th>Pikachu</th>\n",
       "      <td>55</td>\n",
       "      <td>40</td>\n",
       "      <td>90</td>\n",
       "      <td>elektrik</td>\n",
       "    </tr>\n",
       "    <tr>\n",
       "      <th>Onix</th>\n",
       "      <td>45</td>\n",
       "      <td>160</td>\n",
       "      <td>70</td>\n",
       "      <td>kaya</td>\n",
       "    </tr>\n",
       "  </tbody>\n",
       "</table>\n",
       "</div>"
      ],
      "text/plain": [
       "            atak  savunma  hız       tür\n",
       "Charmander    52       43   65      ateş\n",
       "Pikachu       55       40   90  elektrik\n",
       "Onix          45      160   70      kaya"
      ]
     },
     "execution_count": 6,
     "metadata": {},
     "output_type": "execute_result"
    }
   ],
   "source": [
    "pokemon[pokemon[\"hız\"] >  60]"
   ]
  },
  {
   "cell_type": "markdown",
   "metadata": {},
   "source": [
    "Bir dataframe aldık. Boolean seçim yapılmış dataframeden de istediğimiz sütunu seçebiliriz: "
   ]
  },
  {
   "cell_type": "code",
   "execution_count": 8,
   "metadata": {},
   "outputs": [
    {
     "data": {
      "text/plain": [
       "Charmander    65\n",
       "Pikachu       90\n",
       "Onix          70\n",
       "Name: hız, dtype: int64"
      ]
     },
     "execution_count": 8,
     "metadata": {},
     "output_type": "execute_result"
    }
   ],
   "source": [
    "pokemon.loc[pokemon[\"hız\"] >  60, \"hız\"]"
   ]
  },
  {
   "cell_type": "markdown",
   "metadata": {},
   "source": [
    "## Veri Silme\n",
    "Not: Silme operasyonunda \"inplace\" parametresini True yapmazsak tablo modifiye edilmez.\n",
    "\n",
    "İstediğimiz satırı indeksini vererek silebiliriz: "
   ]
  },
  {
   "cell_type": "code",
   "execution_count": 9,
   "metadata": {},
   "outputs": [
    {
     "data": {
      "text/html": [
       "<div>\n",
       "<style scoped>\n",
       "    .dataframe tbody tr th:only-of-type {\n",
       "        vertical-align: middle;\n",
       "    }\n",
       "\n",
       "    .dataframe tbody tr th {\n",
       "        vertical-align: top;\n",
       "    }\n",
       "\n",
       "    .dataframe thead th {\n",
       "        text-align: right;\n",
       "    }\n",
       "</style>\n",
       "<table border=\"1\" class=\"dataframe\">\n",
       "  <thead>\n",
       "    <tr style=\"text-align: right;\">\n",
       "      <th></th>\n",
       "      <th>atak</th>\n",
       "      <th>savunma</th>\n",
       "      <th>hız</th>\n",
       "      <th>tür</th>\n",
       "    </tr>\n",
       "  </thead>\n",
       "  <tbody>\n",
       "    <tr>\n",
       "      <th>Charmander</th>\n",
       "      <td>52</td>\n",
       "      <td>43</td>\n",
       "      <td>65</td>\n",
       "      <td>ateş</td>\n",
       "    </tr>\n",
       "    <tr>\n",
       "      <th>Squirtle</th>\n",
       "      <td>48</td>\n",
       "      <td>65</td>\n",
       "      <td>43</td>\n",
       "      <td>su</td>\n",
       "    </tr>\n",
       "    <tr>\n",
       "      <th>Pikachu</th>\n",
       "      <td>55</td>\n",
       "      <td>40</td>\n",
       "      <td>90</td>\n",
       "      <td>elektrik</td>\n",
       "    </tr>\n",
       "    <tr>\n",
       "      <th>Onix</th>\n",
       "      <td>45</td>\n",
       "      <td>160</td>\n",
       "      <td>70</td>\n",
       "      <td>kaya</td>\n",
       "    </tr>\n",
       "  </tbody>\n",
       "</table>\n",
       "</div>"
      ],
      "text/plain": [
       "            atak  savunma  hız       tür\n",
       "Charmander    52       43   65      ateş\n",
       "Squirtle      48       65   43        su\n",
       "Pikachu       55       40   90  elektrik\n",
       "Onix          45      160   70      kaya"
      ]
     },
     "execution_count": 9,
     "metadata": {},
     "output_type": "execute_result"
    }
   ],
   "source": [
    "pokemon.drop(\"Bulbasaur\")"
   ]
  },
  {
   "cell_type": "markdown",
   "metadata": {},
   "source": [
    "Birden çok satırı da silebiliriz: "
   ]
  },
  {
   "cell_type": "code",
   "execution_count": 10,
   "metadata": {},
   "outputs": [
    {
     "data": {
      "text/html": [
       "<div>\n",
       "<style scoped>\n",
       "    .dataframe tbody tr th:only-of-type {\n",
       "        vertical-align: middle;\n",
       "    }\n",
       "\n",
       "    .dataframe tbody tr th {\n",
       "        vertical-align: top;\n",
       "    }\n",
       "\n",
       "    .dataframe thead th {\n",
       "        text-align: right;\n",
       "    }\n",
       "</style>\n",
       "<table border=\"1\" class=\"dataframe\">\n",
       "  <thead>\n",
       "    <tr style=\"text-align: right;\">\n",
       "      <th></th>\n",
       "      <th>atak</th>\n",
       "      <th>savunma</th>\n",
       "      <th>hız</th>\n",
       "      <th>tür</th>\n",
       "    </tr>\n",
       "  </thead>\n",
       "  <tbody>\n",
       "    <tr>\n",
       "      <th>Bulbasaur</th>\n",
       "      <td>49</td>\n",
       "      <td>49</td>\n",
       "      <td>45</td>\n",
       "      <td>ot</td>\n",
       "    </tr>\n",
       "    <tr>\n",
       "      <th>Charmander</th>\n",
       "      <td>52</td>\n",
       "      <td>43</td>\n",
       "      <td>65</td>\n",
       "      <td>ateş</td>\n",
       "    </tr>\n",
       "    <tr>\n",
       "      <th>Squirtle</th>\n",
       "      <td>48</td>\n",
       "      <td>65</td>\n",
       "      <td>43</td>\n",
       "      <td>su</td>\n",
       "    </tr>\n",
       "  </tbody>\n",
       "</table>\n",
       "</div>"
      ],
      "text/plain": [
       "            atak  savunma  hız   tür\n",
       "Bulbasaur     49       49   45    ot\n",
       "Charmander    52       43   65  ateş\n",
       "Squirtle      48       65   43    su"
      ]
     },
     "execution_count": 10,
     "metadata": {},
     "output_type": "execute_result"
    }
   ],
   "source": [
    "pokemon.drop([\"Pikachu\", \"Onix\"])"
   ]
  },
  {
   "cell_type": "markdown",
   "metadata": {},
   "source": [
    "İstediğimiz sütunları da silebiliriz. \"drop\" metodunda \"axis\" parametresi varsayılan olarak 0'dır ve bu da satırlar demektir. Bu parametreyi 1 yaparak sütun silebiliriz. "
   ]
  },
  {
   "cell_type": "code",
   "execution_count": 11,
   "metadata": {},
   "outputs": [
    {
     "data": {
      "text/html": [
       "<div>\n",
       "<style scoped>\n",
       "    .dataframe tbody tr th:only-of-type {\n",
       "        vertical-align: middle;\n",
       "    }\n",
       "\n",
       "    .dataframe tbody tr th {\n",
       "        vertical-align: top;\n",
       "    }\n",
       "\n",
       "    .dataframe thead th {\n",
       "        text-align: right;\n",
       "    }\n",
       "</style>\n",
       "<table border=\"1\" class=\"dataframe\">\n",
       "  <thead>\n",
       "    <tr style=\"text-align: right;\">\n",
       "      <th></th>\n",
       "      <th>atak</th>\n",
       "      <th>savunma</th>\n",
       "    </tr>\n",
       "  </thead>\n",
       "  <tbody>\n",
       "    <tr>\n",
       "      <th>Bulbasaur</th>\n",
       "      <td>49</td>\n",
       "      <td>49</td>\n",
       "    </tr>\n",
       "    <tr>\n",
       "      <th>Charmander</th>\n",
       "      <td>52</td>\n",
       "      <td>43</td>\n",
       "    </tr>\n",
       "    <tr>\n",
       "      <th>Squirtle</th>\n",
       "      <td>48</td>\n",
       "      <td>65</td>\n",
       "    </tr>\n",
       "    <tr>\n",
       "      <th>Pikachu</th>\n",
       "      <td>55</td>\n",
       "      <td>40</td>\n",
       "    </tr>\n",
       "    <tr>\n",
       "      <th>Onix</th>\n",
       "      <td>45</td>\n",
       "      <td>160</td>\n",
       "    </tr>\n",
       "  </tbody>\n",
       "</table>\n",
       "</div>"
      ],
      "text/plain": [
       "            atak  savunma\n",
       "Bulbasaur     49       49\n",
       "Charmander    52       43\n",
       "Squirtle      48       65\n",
       "Pikachu       55       40\n",
       "Onix          45      160"
      ]
     },
     "execution_count": 11,
     "metadata": {},
     "output_type": "execute_result"
    }
   ],
   "source": [
    "pokemon.drop([\"hız\", \"tür\"], axis=1)"
   ]
  },
  {
   "cell_type": "markdown",
   "metadata": {},
   "source": [
    "## Operasyonlar\n",
    "Dataframe'de birden fazla sütuna aynı anda işlemler yapabiliriz. Örneğin, atak ve savunmayı 10'a bölelim:"
   ]
  },
  {
   "cell_type": "code",
   "execution_count": 16,
   "metadata": {},
   "outputs": [
    {
     "data": {
      "text/html": [
       "<div>\n",
       "<style scoped>\n",
       "    .dataframe tbody tr th:only-of-type {\n",
       "        vertical-align: middle;\n",
       "    }\n",
       "\n",
       "    .dataframe tbody tr th {\n",
       "        vertical-align: top;\n",
       "    }\n",
       "\n",
       "    .dataframe thead th {\n",
       "        text-align: right;\n",
       "    }\n",
       "</style>\n",
       "<table border=\"1\" class=\"dataframe\">\n",
       "  <thead>\n",
       "    <tr style=\"text-align: right;\">\n",
       "      <th></th>\n",
       "      <th>atak</th>\n",
       "      <th>savunma</th>\n",
       "    </tr>\n",
       "  </thead>\n",
       "  <tbody>\n",
       "    <tr>\n",
       "      <th>Bulbasaur</th>\n",
       "      <td>4.9</td>\n",
       "      <td>4.9</td>\n",
       "    </tr>\n",
       "    <tr>\n",
       "      <th>Charmander</th>\n",
       "      <td>5.2</td>\n",
       "      <td>4.3</td>\n",
       "    </tr>\n",
       "    <tr>\n",
       "      <th>Squirtle</th>\n",
       "      <td>4.8</td>\n",
       "      <td>6.5</td>\n",
       "    </tr>\n",
       "    <tr>\n",
       "      <th>Pikachu</th>\n",
       "      <td>5.5</td>\n",
       "      <td>4.0</td>\n",
       "    </tr>\n",
       "    <tr>\n",
       "      <th>Onix</th>\n",
       "      <td>4.5</td>\n",
       "      <td>16.0</td>\n",
       "    </tr>\n",
       "  </tbody>\n",
       "</table>\n",
       "</div>"
      ],
      "text/plain": [
       "            atak  savunma\n",
       "Bulbasaur    4.9      4.9\n",
       "Charmander   5.2      4.3\n",
       "Squirtle     4.8      6.5\n",
       "Pikachu      5.5      4.0\n",
       "Onix         4.5     16.0"
      ]
     },
     "execution_count": 16,
     "metadata": {},
     "output_type": "execute_result"
    }
   ],
   "source": [
    "pokemon[[\"atak\", \"savunma\"]] / 10"
   ]
  },
  {
   "cell_type": "markdown",
   "metadata": {},
   "source": [
    "Tüm atak puanlarına 10, savunma puanlarına 5 sayılarını aynı anda ekleyelim:"
   ]
  },
  {
   "cell_type": "code",
   "execution_count": 13,
   "metadata": {},
   "outputs": [
    {
     "data": {
      "text/html": [
       "<div>\n",
       "<style scoped>\n",
       "    .dataframe tbody tr th:only-of-type {\n",
       "        vertical-align: middle;\n",
       "    }\n",
       "\n",
       "    .dataframe tbody tr th {\n",
       "        vertical-align: top;\n",
       "    }\n",
       "\n",
       "    .dataframe thead th {\n",
       "        text-align: right;\n",
       "    }\n",
       "</style>\n",
       "<table border=\"1\" class=\"dataframe\">\n",
       "  <thead>\n",
       "    <tr style=\"text-align: right;\">\n",
       "      <th></th>\n",
       "      <th>atak</th>\n",
       "      <th>savunma</th>\n",
       "    </tr>\n",
       "  </thead>\n",
       "  <tbody>\n",
       "    <tr>\n",
       "      <th>Bulbasaur</th>\n",
       "      <td>59</td>\n",
       "      <td>54</td>\n",
       "    </tr>\n",
       "    <tr>\n",
       "      <th>Charmander</th>\n",
       "      <td>62</td>\n",
       "      <td>48</td>\n",
       "    </tr>\n",
       "    <tr>\n",
       "      <th>Squirtle</th>\n",
       "      <td>58</td>\n",
       "      <td>70</td>\n",
       "    </tr>\n",
       "    <tr>\n",
       "      <th>Pikachu</th>\n",
       "      <td>65</td>\n",
       "      <td>45</td>\n",
       "    </tr>\n",
       "    <tr>\n",
       "      <th>Onix</th>\n",
       "      <td>55</td>\n",
       "      <td>165</td>\n",
       "    </tr>\n",
       "  </tbody>\n",
       "</table>\n",
       "</div>"
      ],
      "text/plain": [
       "            atak  savunma\n",
       "Bulbasaur     59       54\n",
       "Charmander    62       48\n",
       "Squirtle      58       70\n",
       "Pikachu       65       45\n",
       "Onix          55      165"
      ]
     },
     "execution_count": 13,
     "metadata": {},
     "output_type": "execute_result"
    }
   ],
   "source": [
    "pokemon[[\"atak\", \"savunma\"]] + [10, 5]"
   ]
  },
  {
   "cell_type": "markdown",
   "metadata": {},
   "source": [
    "## Dataframe'leri Değiştirme/Düzenleme\n",
    "### Yeni sütun ekleme\n",
    "Yeni sütun ekleyebiliriz. Örneğin, pokemonların metre cinsinden \"boy\" bilgilerini bir seri olarak oluşturalım ve dataframe'e ekleyelim."
   ]
  },
  {
   "cell_type": "code",
   "execution_count": 18,
   "metadata": {},
   "outputs": [
    {
     "data": {
      "text/plain": [
       "Bulbasaur     0.7\n",
       "Charmander    0.6\n",
       "Squirtle      0.5\n",
       "Pikachu       0.4\n",
       "Onix          8.8\n",
       "dtype: float64"
      ]
     },
     "execution_count": 18,
     "metadata": {},
     "output_type": "execute_result"
    }
   ],
   "source": [
    "boylar = pd.Series([0.7, 0.6, 0.5, 0.4, 8.8], index=pokemon.index)\n",
    "boylar"
   ]
  },
  {
   "cell_type": "markdown",
   "metadata": {},
   "source": [
    "Pokemon dataframe'inde \"boy\" adında bir sütun oluşturalım ve boylar serisini bu sütuna atayalım."
   ]
  },
  {
   "cell_type": "code",
   "execution_count": 20,
   "metadata": {},
   "outputs": [
    {
     "data": {
      "text/html": [
       "<div>\n",
       "<style scoped>\n",
       "    .dataframe tbody tr th:only-of-type {\n",
       "        vertical-align: middle;\n",
       "    }\n",
       "\n",
       "    .dataframe tbody tr th {\n",
       "        vertical-align: top;\n",
       "    }\n",
       "\n",
       "    .dataframe thead th {\n",
       "        text-align: right;\n",
       "    }\n",
       "</style>\n",
       "<table border=\"1\" class=\"dataframe\">\n",
       "  <thead>\n",
       "    <tr style=\"text-align: right;\">\n",
       "      <th></th>\n",
       "      <th>atak</th>\n",
       "      <th>savunma</th>\n",
       "      <th>hız</th>\n",
       "      <th>tür</th>\n",
       "      <th>boy</th>\n",
       "    </tr>\n",
       "  </thead>\n",
       "  <tbody>\n",
       "    <tr>\n",
       "      <th>Bulbasaur</th>\n",
       "      <td>49</td>\n",
       "      <td>49</td>\n",
       "      <td>45</td>\n",
       "      <td>ot</td>\n",
       "      <td>0.7</td>\n",
       "    </tr>\n",
       "    <tr>\n",
       "      <th>Charmander</th>\n",
       "      <td>52</td>\n",
       "      <td>43</td>\n",
       "      <td>65</td>\n",
       "      <td>ateş</td>\n",
       "      <td>0.6</td>\n",
       "    </tr>\n",
       "    <tr>\n",
       "      <th>Squirtle</th>\n",
       "      <td>48</td>\n",
       "      <td>65</td>\n",
       "      <td>43</td>\n",
       "      <td>su</td>\n",
       "      <td>0.5</td>\n",
       "    </tr>\n",
       "    <tr>\n",
       "      <th>Pikachu</th>\n",
       "      <td>55</td>\n",
       "      <td>40</td>\n",
       "      <td>90</td>\n",
       "      <td>elektrik</td>\n",
       "      <td>0.4</td>\n",
       "    </tr>\n",
       "    <tr>\n",
       "      <th>Onix</th>\n",
       "      <td>45</td>\n",
       "      <td>160</td>\n",
       "      <td>70</td>\n",
       "      <td>kaya</td>\n",
       "      <td>8.8</td>\n",
       "    </tr>\n",
       "  </tbody>\n",
       "</table>\n",
       "</div>"
      ],
      "text/plain": [
       "            atak  savunma  hız       tür  boy\n",
       "Bulbasaur     49       49   45        ot  0.7\n",
       "Charmander    52       43   65      ateş  0.6\n",
       "Squirtle      48       65   43        su  0.5\n",
       "Pikachu       55       40   90  elektrik  0.4\n",
       "Onix          45      160   70      kaya  8.8"
      ]
     },
     "execution_count": 20,
     "metadata": {},
     "output_type": "execute_result"
    }
   ],
   "source": [
    "pokemon[\"boy\"] = boylar\n",
    "pokemon"
   ]
  },
  {
   "cell_type": "markdown",
   "metadata": {},
   "source": [
    "### Bir sütundaki tüm değerleri değiştirme\n",
    "Tüm boy değerlerini 1 yapalım:"
   ]
  },
  {
   "cell_type": "code",
   "execution_count": 22,
   "metadata": {},
   "outputs": [
    {
     "data": {
      "text/html": [
       "<div>\n",
       "<style scoped>\n",
       "    .dataframe tbody tr th:only-of-type {\n",
       "        vertical-align: middle;\n",
       "    }\n",
       "\n",
       "    .dataframe tbody tr th {\n",
       "        vertical-align: top;\n",
       "    }\n",
       "\n",
       "    .dataframe thead th {\n",
       "        text-align: right;\n",
       "    }\n",
       "</style>\n",
       "<table border=\"1\" class=\"dataframe\">\n",
       "  <thead>\n",
       "    <tr style=\"text-align: right;\">\n",
       "      <th></th>\n",
       "      <th>atak</th>\n",
       "      <th>savunma</th>\n",
       "      <th>hız</th>\n",
       "      <th>tür</th>\n",
       "      <th>boy</th>\n",
       "    </tr>\n",
       "  </thead>\n",
       "  <tbody>\n",
       "    <tr>\n",
       "      <th>Bulbasaur</th>\n",
       "      <td>49</td>\n",
       "      <td>49</td>\n",
       "      <td>45</td>\n",
       "      <td>ot</td>\n",
       "      <td>1</td>\n",
       "    </tr>\n",
       "    <tr>\n",
       "      <th>Charmander</th>\n",
       "      <td>52</td>\n",
       "      <td>43</td>\n",
       "      <td>65</td>\n",
       "      <td>ateş</td>\n",
       "      <td>1</td>\n",
       "    </tr>\n",
       "    <tr>\n",
       "      <th>Squirtle</th>\n",
       "      <td>48</td>\n",
       "      <td>65</td>\n",
       "      <td>43</td>\n",
       "      <td>su</td>\n",
       "      <td>1</td>\n",
       "    </tr>\n",
       "    <tr>\n",
       "      <th>Pikachu</th>\n",
       "      <td>55</td>\n",
       "      <td>40</td>\n",
       "      <td>90</td>\n",
       "      <td>elektrik</td>\n",
       "      <td>1</td>\n",
       "    </tr>\n",
       "    <tr>\n",
       "      <th>Onix</th>\n",
       "      <td>45</td>\n",
       "      <td>160</td>\n",
       "      <td>70</td>\n",
       "      <td>kaya</td>\n",
       "      <td>1</td>\n",
       "    </tr>\n",
       "  </tbody>\n",
       "</table>\n",
       "</div>"
      ],
      "text/plain": [
       "            atak  savunma  hız       tür  boy\n",
       "Bulbasaur     49       49   45        ot    1\n",
       "Charmander    52       43   65      ateş    1\n",
       "Squirtle      48       65   43        su    1\n",
       "Pikachu       55       40   90  elektrik    1\n",
       "Onix          45      160   70      kaya    1"
      ]
     },
     "execution_count": 22,
     "metadata": {},
     "output_type": "execute_result"
    }
   ],
   "source": [
    "pokemon[\"boy\"] = 1\n",
    "pokemon"
   ]
  },
  {
   "cell_type": "markdown",
   "metadata": {},
   "source": [
    "Bir şeye dikkat çekelim. Boy sütunu kesirli sayılardan oluşuyodu ancak tam sayı olan 1 değerine eşitledikten sonra tam sayılardan oluşuyor. Boy sütununun veri tipine bakarak da bunu gösterelim:"
   ]
  },
  {
   "cell_type": "code",
   "execution_count": 23,
   "metadata": {},
   "outputs": [
    {
     "data": {
      "text/plain": [
       "dtype('int64')"
      ]
     },
     "execution_count": 23,
     "metadata": {},
     "output_type": "execute_result"
    }
   ],
   "source": [
    "pokemon[\"boy\"].dtype"
   ]
  },
  {
   "cell_type": "markdown",
   "metadata": {},
   "source": [
    "Boy değerlerini tekrar yerine koyalım:"
   ]
  },
  {
   "cell_type": "code",
   "execution_count": 24,
   "metadata": {},
   "outputs": [],
   "source": [
    "pokemon.boy = boylar"
   ]
  },
  {
   "cell_type": "markdown",
   "metadata": {},
   "source": [
    "### Yeniden adlandırma\n",
    "Sütun adlarını ingilizce karşılıkları ile yer değiştirelim: "
   ]
  },
  {
   "cell_type": "code",
   "execution_count": 27,
   "metadata": {},
   "outputs": [
    {
     "data": {
      "text/html": [
       "<div>\n",
       "<style scoped>\n",
       "    .dataframe tbody tr th:only-of-type {\n",
       "        vertical-align: middle;\n",
       "    }\n",
       "\n",
       "    .dataframe tbody tr th {\n",
       "        vertical-align: top;\n",
       "    }\n",
       "\n",
       "    .dataframe thead th {\n",
       "        text-align: right;\n",
       "    }\n",
       "</style>\n",
       "<table border=\"1\" class=\"dataframe\">\n",
       "  <thead>\n",
       "    <tr style=\"text-align: right;\">\n",
       "      <th></th>\n",
       "      <th>attack</th>\n",
       "      <th>defense</th>\n",
       "      <th>speed</th>\n",
       "      <th>type</th>\n",
       "      <th>height</th>\n",
       "    </tr>\n",
       "  </thead>\n",
       "  <tbody>\n",
       "    <tr>\n",
       "      <th>Bulbasaur</th>\n",
       "      <td>49</td>\n",
       "      <td>49</td>\n",
       "      <td>45</td>\n",
       "      <td>ot</td>\n",
       "      <td>0.7</td>\n",
       "    </tr>\n",
       "    <tr>\n",
       "      <th>Charmander</th>\n",
       "      <td>52</td>\n",
       "      <td>43</td>\n",
       "      <td>65</td>\n",
       "      <td>ateş</td>\n",
       "      <td>0.6</td>\n",
       "    </tr>\n",
       "    <tr>\n",
       "      <th>Squirtle</th>\n",
       "      <td>48</td>\n",
       "      <td>65</td>\n",
       "      <td>43</td>\n",
       "      <td>su</td>\n",
       "      <td>0.5</td>\n",
       "    </tr>\n",
       "    <tr>\n",
       "      <th>Pikachu</th>\n",
       "      <td>55</td>\n",
       "      <td>40</td>\n",
       "      <td>90</td>\n",
       "      <td>elektrik</td>\n",
       "      <td>0.4</td>\n",
       "    </tr>\n",
       "    <tr>\n",
       "      <th>Onix</th>\n",
       "      <td>45</td>\n",
       "      <td>160</td>\n",
       "      <td>70</td>\n",
       "      <td>kaya</td>\n",
       "      <td>8.8</td>\n",
       "    </tr>\n",
       "  </tbody>\n",
       "</table>\n",
       "</div>"
      ],
      "text/plain": [
       "            attack  defense  speed      type  height\n",
       "Bulbasaur       49       49     45        ot     0.7\n",
       "Charmander      52       43     65      ateş     0.6\n",
       "Squirtle        48       65     43        su     0.5\n",
       "Pikachu         55       40     90  elektrik     0.4\n",
       "Onix            45      160     70      kaya     8.8"
      ]
     },
     "execution_count": 27,
     "metadata": {},
     "output_type": "execute_result"
    }
   ],
   "source": [
    "pokemon.rename(\n",
    "    columns={\n",
    "        \"atak\": \"attack\",\n",
    "        \"savunma\": \"defense\",\n",
    "        \"tür\": \"type\",\n",
    "        \"hız\": \"speed\",\n",
    "        \"boy\": \"height\"\n",
    "    },\n",
    "    inplace=True\n",
    ")\n",
    "pokemon"
   ]
  },
  {
   "cell_type": "code",
   "execution_count": null,
   "metadata": {},
   "outputs": [],
   "source": []
  }
 ],
 "metadata": {
  "kernelspec": {
   "display_name": "Python 3.9.12 ('base')",
   "language": "python",
   "name": "python3"
  },
  "language_info": {
   "codemirror_mode": {
    "name": "ipython",
    "version": 3
   },
   "file_extension": ".py",
   "mimetype": "text/x-python",
   "name": "python",
   "nbconvert_exporter": "python",
   "pygments_lexer": "ipython3",
   "version": "3.9.12"
  },
  "orig_nbformat": 4,
  "vscode": {
   "interpreter": {
    "hash": "4948d6036df53f9c4e4d7154e6706ebf2eadda82c2f9a07b39338e0decb9a623"
   }
  }
 },
 "nbformat": 4,
 "nbformat_minor": 2
}
