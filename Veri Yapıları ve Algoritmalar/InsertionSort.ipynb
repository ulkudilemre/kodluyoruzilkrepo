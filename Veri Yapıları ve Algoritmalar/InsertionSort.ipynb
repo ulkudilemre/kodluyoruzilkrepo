{
 "cells": [
  {
   "cell_type": "markdown",
   "metadata": {},
   "source": [
    "# Insertion Sort Projesi\n",
    "\n",
    "## Proje 1\n",
    "**[22,27,16,2,18,6]** -> Insertion Sort\n",
    "\n",
    "1. Yukarıda verilen dizinin sort türüne göre aşamalarını yazınız.\n",
    "\n",
    "|  Index | 0     | 1     | 2      | 3      | 4      | 5      |\n",
    "|:------:|-------|-------|--------|--------|--------|--------|\n",
    "| 1.adım | **2** | 27    | 16     | 22     | 18     | 6      |\n",
    "| 2.adım | **2** | **6** | 16     | 22     | 18     | 27     |\n",
    "| 3.adım | **2** | **6** | **16** | 22     | 18     | 27     |\n",
    "| 3.adım | **2** | **6** | **16** | **18** | 22     | 27     |\n",
    "| 4.adım | **2** | **6** | **16** | **18** | **22** | 27     |\n",
    "| 5.adım | **2** | **6** | **16** | **18** | **22** | **27** |\n",
    "\n",
    "\n",
    "2. Big-O gösterimini yazınız.\n",
    "\n",
    "     $\\mathcal{O}(n^2)$|  -->  $\\mathcal{O}(6^2)$|\n",
    "\n",
    "\n",
    "3. Time Complexity değerlerini yazınız.\n",
    "\n",
    "|                                                                   |                      |\n",
    "|-------------------------------------------------------------------|----------------------|\n",
    "| **Average case** (Aradığımız sayının ortada olması)**:**          | $\\Theta{O}(n^2)$     |\n",
    "| **Worst case** (Aradığımız sayının sonda olması)**:**             | $\\mathcal{O}(n^2)$\\| |\n",
    "| **Best case** (Aradığımız sayının dizinin en başında olması)**:** | $\\Omega(n^2)$\\|      |\n",
    "\n",
    "\n",
    "4. Dizi sıralandıktan sonra 18 sayısı hangi case kapsamına girer?\n",
    "    \n",
    "    * [2,  6,  16, **18**, 22, 27] \n",
    "    * 18 sayısı dizinin ortasındadır ve aradığımız sayının ortada olması **Average case**'dir.\n",
    "\n",
    "---\n",
    "\n",
    "1. [7,3,5,8,2,9,4,15,6] dizisinin Insertion Sort'a göre ilk 4 adımını yazınız.\n",
    "\n",
    "| Index   | 0     | 1     | 2     | 3     | 4 | 5 | 6 | 7  | 8 |\n",
    "|---------|-------|-------|-------|-------|---|---|---|----|---|\n",
    "| 1.adım  | **2** | 3     | 5     | 8     | 7 | 9 | 4 | 15 | 6 |\n",
    "| 2. adım | **2** | **3** | 5     | 8     | 7 | 9 | 4 | 15 | 6 |\n",
    "| 3. adım | **2** | **3** | **4** | 8     | 7 | 9 | 5 | 15 | 6 |\n",
    "| 4. adım | **2** | **3** | **4** | **5** | 7 | 9 | 8 | 15 | 6 |\n",
    "\n",
    "## Python Kodu"
   ]
  },
  {
   "cell_type": "code",
   "execution_count": 1,
   "metadata": {},
   "outputs": [
    {
     "name": "stdout",
     "output_type": "stream",
     "text": [
      "Sıralanmış Liste\n",
      "2 3 4 5 6 7 8 9 15 "
     ]
    }
   ],
   "source": [
    "list = [7,3,5,8,2,9,4,15,6]\n",
    "\n",
    "for i in range(len(list)):\n",
    "    min_idx = i\n",
    "    for j in range(i+1, len(list)):\n",
    "        if list[min_idx] > list[j]:\n",
    "            min_idx = j\n",
    "    list[i], list[min_idx] = list[min_idx], list[i]\n",
    "\n",
    "print(\"Sıralanmış Liste\")\n",
    "for i in range(len(list)):\n",
    "    print(\"%d\" %list[i], end=\" \")"
   ]
  }
 ],
 "metadata": {
  "kernelspec": {
   "display_name": "Python 3.9.7 ('base')",
   "language": "python",
   "name": "python3"
  },
  "language_info": {
   "codemirror_mode": {
    "name": "ipython",
    "version": 3
   },
   "file_extension": ".py",
   "mimetype": "text/x-python",
   "name": "python",
   "nbconvert_exporter": "python",
   "pygments_lexer": "ipython3",
   "version": "3.9.7"
  },
  "orig_nbformat": 4,
  "vscode": {
   "interpreter": {
    "hash": "ee47ce7126773fb23b6daedd517e2656aa3389c0f446e5c9e9f7325e8ed7e0df"
   }
  }
 },
 "nbformat": 4,
 "nbformat_minor": 2
}
