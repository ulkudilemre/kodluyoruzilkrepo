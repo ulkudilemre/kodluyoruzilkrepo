{
 "cells": [
  {
   "cell_type": "markdown",
   "metadata": {},
   "source": [
    "# Merge Sort Projesi\n",
    "\n",
    "## Proje 2\n",
    "**[16,21,11,8,12,22]** -> Merge Sort\n",
    "\n",
    "1. Yukarıdaki dizinin sort türüne göre aşamalarını yazınız.\n",
    "\n",
    "|Adımlar|  |  |  |  |  |  |  |  |  |  |  |  |\n",
    "|-----  |- |- |- |- |- |- |- |- |- |- |- |- |\n",
    "|1. adım|  |  |  |16|21|11|8 |12|22|  |  |  |\n",
    "|2. adım|  |  |16|21|11|  |  |8 |12|22|  |  |\n",
    "|3. adım|  |16|21|  |11|  |  |8 |  |12|22|  |\n",
    "|4. adım|16|  |21|  |11|  |  |8 |  |12|  |22|\n",
    "|5. adım|  |16|21|  |11|  |  |8 |  |12|22|  |\n",
    "|6. adım|  |  |11|16|21|  |  |8 |12|22|  |  |\n",
    "|7. adım|  |  |  |8 |11|12|16|21|22|  |  |  |\n",
    "    \n",
    "\n",
    "2. Big-O gösterimini yazınız.\n",
    "\n",
    "    $\\mathcal{O}(n\\log{}n)$  --> $\\mathcal{O}(6\\log{}6)$\n",
    "\n",
    "    \n",
    "## Python Kodu"
   ]
  },
  {
   "cell_type": "code",
   "execution_count": 2,
   "metadata": {},
   "outputs": [],
   "source": [
    "def mergeSort(arr):\n",
    "    if len(arr) > 1:\n",
    "        mid = len(arr)//2\n",
    "        L = arr[:mid]\n",
    "        R = arr[mid:]\n",
    "        mergeSort(L)\n",
    "        mergeSort(R)\n",
    "  \n",
    "        i = j = k = 0\n",
    "        while i < len(L) and j < len(R):\n",
    "            if L[i] < R[j]:\n",
    "                arr[k] = L[i]\n",
    "                i += 1\n",
    "            else:\n",
    "                arr[k] = R[j]\n",
    "                j += 1\n",
    "            k += 1\n",
    "  \n",
    "        while i < len(L):\n",
    "            arr[k] = L[i]\n",
    "            i += 1\n",
    "            k += 1\n",
    "  \n",
    "        while j < len(R):\n",
    "            arr[k] = R[j]\n",
    "            j += 1\n",
    "            k += 1"
   ]
  },
  {
   "cell_type": "code",
   "execution_count": 3,
   "metadata": {},
   "outputs": [
    {
     "name": "stdout",
     "output_type": "stream",
     "text": [
      "Sorted array is: \n",
      "5 6 7 11 12 13 \n"
     ]
    }
   ],
   "source": [
    "list = [12, 11, 13, 5, 6, 7]\n",
    "mergeSort(list)\n",
    "print(\"Sorted array is: \", end=\"\\n\")\n",
    "for i in range(len(list)):\n",
    "    print(list[i], end=\" \")\n"
   ]
  },
  {
   "cell_type": "markdown",
   "metadata": {},
   "source": [
    "###### Bu kod Mayank Khanna tarafından sağlanmıştır."
   ]
  }
 ],
 "metadata": {
  "kernelspec": {
   "display_name": "Python 3.9.7 ('base')",
   "language": "python",
   "name": "python3"
  },
  "language_info": {
   "codemirror_mode": {
    "name": "ipython",
    "version": 3
   },
   "file_extension": ".py",
   "mimetype": "text/x-python",
   "name": "python",
   "nbconvert_exporter": "python",
   "pygments_lexer": "ipython3",
   "version": "3.9.7"
  },
  "orig_nbformat": 4,
  "vscode": {
   "interpreter": {
    "hash": "ee47ce7126773fb23b6daedd517e2656aa3389c0f446e5c9e9f7325e8ed7e0df"
   }
  }
 },
 "nbformat": 4,
 "nbformat_minor": 2
}
