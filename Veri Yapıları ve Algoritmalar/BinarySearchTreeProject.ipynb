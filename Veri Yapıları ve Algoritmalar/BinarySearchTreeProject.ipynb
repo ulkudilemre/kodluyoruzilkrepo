{
 "cells": [
  {
   "cell_type": "markdown",
   "metadata": {},
   "source": [
    "# Binary Search Tree Projesi\n",
    "\n",
    "## Proje 3\n",
    "**[7,5,1,8,3,6,0,9,4,2]** dizisinin Binary-Search-Tree aşamalarını yazınız.\n",
    "\n",
    "* root düğümde dahil olmak üzere her düğümün 2 dalı olabilir:\n",
    "    - Sağ taraftaki dallar düğümden büyük olan elemanları tutar.\n",
    "    - Sol taraftaki dallar süğümden küçük olan elemanları tutar.\n",
    "\n",
    "Dizi indislerine göre:\n",
    "0. 7 ilk elemanımız olduğu içn root düğüm olur. Ağaç yapısı bu düğüme göre şekillenir.\n",
    "1. 5, 7'den küçük olduğu için 7'nin sol sol tarafına eklenir.\n",
    "2. 1, 7'den ve 5'ten küçük olduğu için 5'in sol tarafına eklenir.\n",
    "3. 8, 7'den büyük olduğu için 7'nin sağına eklenir.\n",
    "4. 3, 7'den ve 5'ten küçüktür fakat 5'in solunda 1 vardır. 3 1'den büyük olduğu için 1'in sağına eklenir.\n",
    "5. 6, 7'den küçük, 5'ten büyük olduğu için 5'in sağına eklenir.\n",
    "6. 0, 7'den, 5'ten ve 1'den küçük olduğu için 1'in soluna eklenir.\n",
    "7. 9, 7'den ve 8'den büyük olduğu için 8'in sağına eklenir.\n",
    "8. 4, 7'de, ve 5'ten küçüktür. 5'in solunda bulunan 1'den ve 3'ten de büyüktür. Bundan dolayı 3'ün sağına eklenir.\n",
    "9. 2, 7'den ve 5'ten küçüktür. 1'den büyük olduğu ve 3'ten küçük olduğu için 3'ün soluna eklenir.\n",
    "\n",
    "\n",
    "![Graph](/Adsız.png \"Graph png\")\n",
    "\n",
    "\n",
    "\n"
   ]
  },
  {
   "cell_type": "markdown",
   "metadata": {},
   "source": []
  }
 ],
 "metadata": {
  "kernelspec": {
   "display_name": "Python 3.9.7 ('base')",
   "language": "python",
   "name": "python3"
  },
  "language_info": {
   "name": "python",
   "version": "3.9.7"
  },
  "orig_nbformat": 4,
  "vscode": {
   "interpreter": {
    "hash": "ee47ce7126773fb23b6daedd517e2656aa3389c0f446e5c9e9f7325e8ed7e0df"
   }
  }
 },
 "nbformat": 4,
 "nbformat_minor": 2
}
