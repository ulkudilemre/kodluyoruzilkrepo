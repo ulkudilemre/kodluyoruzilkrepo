{
 "cells": [
  {
   "cell_type": "code",
   "execution_count": 1,
   "metadata": {},
   "outputs": [],
   "source": [
    "import numpy as np"
   ]
  },
  {
   "cell_type": "markdown",
   "metadata": {},
   "source": [
    "# Normal Dağılım Değerlerinden Oluşan Array Oluşturma\n",
    "\n",
    "* np.random.normal(mean, std, array_size)"
   ]
  },
  {
   "cell_type": "code",
   "execution_count": 3,
   "metadata": {},
   "outputs": [
    {
     "data": {
      "text/plain": [
       "array([[ 0.21805999,  2.22678894,  0.9654618 , -1.62330981, -0.35007281],\n",
       "       [-0.53573594, -2.09219706,  1.48549119,  0.17152623, -0.0095972 ],\n",
       "       [-0.62945869,  0.73713878,  0.77914055,  0.43361431,  0.13571044],\n",
       "       [-0.13877567, -1.00593461,  0.91106879,  1.11689337,  2.00434684]])"
      ]
     },
     "execution_count": 3,
     "metadata": {},
     "output_type": "execute_result"
    }
   ],
   "source": [
    "np.random.normal(0, 1, (4, 5))"
   ]
  },
  {
   "cell_type": "code",
   "execution_count": 12,
   "metadata": {},
   "outputs": [
    {
     "data": {
      "text/plain": [
       "array([[  33.23792135,   75.31860598, -123.75125702],\n",
       "       [ -20.67621622,   39.59673083,  -55.04228965],\n",
       "       [  86.80473973, -152.07945598, -109.78786937],\n",
       "       [ -18.52605006,   15.73145383,  -25.64024387]])"
      ]
     },
     "execution_count": 12,
     "metadata": {},
     "output_type": "execute_result"
    }
   ],
   "source": [
    "np.random.normal(0, 100, (4, 3))"
   ]
  },
  {
   "cell_type": "code",
   "execution_count": 11,
   "metadata": {},
   "outputs": [
    {
     "data": {
      "text/plain": [
       "array([[-131.82962412,  -95.39693222, -160.30237372],\n",
       "       [ 122.26122531, -132.06779278,  143.50855723],\n",
       "       [ 138.34772041,   99.97618141,   73.38962737],\n",
       "       [  93.67532367,   57.38105911,   60.97095959]])"
      ]
     },
     "execution_count": 11,
     "metadata": {},
     "output_type": "execute_result"
    }
   ],
   "source": [
    "np.random.normal(10, 100, (4, 3))"
   ]
  },
  {
   "cell_type": "code",
   "execution_count": 14,
   "metadata": {},
   "outputs": [
    {
     "data": {
      "text/plain": [
       "array([[12.02899694, 10.48191019, 10.39109595],\n",
       "       [10.47327787,  8.63304055,  9.49932329],\n",
       "       [10.91370964, 10.14358854,  8.84872057],\n",
       "       [10.19922155,  9.78812943,  9.46811795]])"
      ]
     },
     "execution_count": 14,
     "metadata": {},
     "output_type": "execute_result"
    }
   ],
   "source": [
    "np.random.normal(10, 1, (4, 3))"
   ]
  }
 ],
 "metadata": {
  "kernelspec": {
   "display_name": "Python 3.9.12 ('base')",
   "language": "python",
   "name": "python3"
  },
  "language_info": {
   "codemirror_mode": {
    "name": "ipython",
    "version": 3
   },
   "file_extension": ".py",
   "mimetype": "text/x-python",
   "name": "python",
   "nbconvert_exporter": "python",
   "pygments_lexer": "ipython3",
   "version": "3.9.12"
  },
  "orig_nbformat": 4,
  "vscode": {
   "interpreter": {
    "hash": "4948d6036df53f9c4e4d7154e6706ebf2eadda82c2f9a07b39338e0decb9a623"
   }
  }
 },
 "nbformat": 4,
 "nbformat_minor": 2
}
