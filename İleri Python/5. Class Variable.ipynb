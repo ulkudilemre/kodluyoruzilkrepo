{
 "cells": [
  {
   "cell_type": "markdown",
   "metadata": {},
   "source": [
    "# Class Variable \n",
    "* **Instance Variable:** Class'tan oluşturulan objelerin kendilerine özgü eğişkenleridir. Her obje için farklı değerler alabilir. \n",
    "* **Class Variable:** Class'tan oluşturulan tüm objelerde paylaşılan değikenlerdir. Bu değişken değeri tüm objeler için aynıdır."
   ]
  },
  {
   "cell_type": "code",
   "execution_count": 10,
   "metadata": {},
   "outputs": [],
   "source": [
    "class Employee:\n",
    "\n",
    "    raise_percent = 1.05\n",
    "\n",
    "    def __init__(self, name, last, age, pay):\n",
    "        self.name = name\n",
    "        self.last = last\n",
    "        self.age = age\n",
    "        self.pay = pay\n",
    "\n",
    "    def apply_raise(self):\n",
    "        self.pay = self.pay * raise_percent"
   ]
  },
  {
   "cell_type": "code",
   "execution_count": 11,
   "metadata": {},
   "outputs": [
    {
     "ename": "NameError",
     "evalue": "name 'raise_percent' is not defined",
     "output_type": "error",
     "traceback": [
      "\u001b[1;31m---------------------------------------------------------------------------\u001b[0m",
      "\u001b[1;31mNameError\u001b[0m                                 Traceback (most recent call last)",
      "Cell \u001b[1;32mIn [11], line 2\u001b[0m\n\u001b[0;32m      1\u001b[0m emp1 \u001b[38;5;241m=\u001b[39m Employee(\u001b[38;5;124m\"\u001b[39m\u001b[38;5;124mJames\u001b[39m\u001b[38;5;124m\"\u001b[39m, \u001b[38;5;124m\"\u001b[39m\u001b[38;5;124mDoe\u001b[39m\u001b[38;5;124m\"\u001b[39m, \u001b[38;5;124m\"\u001b[39m\u001b[38;5;124m23\u001b[39m\u001b[38;5;124m\"\u001b[39m, \u001b[38;5;241m5000\u001b[39m)\n\u001b[1;32m----> 2\u001b[0m \u001b[43memp1\u001b[49m\u001b[38;5;241;43m.\u001b[39;49m\u001b[43mapply_raise\u001b[49m\u001b[43m(\u001b[49m\u001b[43m)\u001b[49m\n",
      "Cell \u001b[1;32mIn [10], line 12\u001b[0m, in \u001b[0;36mEmployee.apply_raise\u001b[1;34m(self)\u001b[0m\n\u001b[0;32m     11\u001b[0m \u001b[38;5;28;01mdef\u001b[39;00m \u001b[38;5;21mapply_raise\u001b[39m(\u001b[38;5;28mself\u001b[39m):\n\u001b[1;32m---> 12\u001b[0m     \u001b[38;5;28mself\u001b[39m\u001b[38;5;241m.\u001b[39mpay \u001b[38;5;241m=\u001b[39m \u001b[38;5;28mself\u001b[39m\u001b[38;5;241m.\u001b[39mpay \u001b[38;5;241m*\u001b[39m \u001b[43mraise_percent\u001b[49m\n",
      "\u001b[1;31mNameError\u001b[0m: name 'raise_percent' is not defined"
     ]
    }
   ],
   "source": [
    "emp1 = Employee(\"James\", \"Doe\", \"23\", 5000)\n",
    "emp1.apply_raise()"
   ]
  },
  {
   "cell_type": "markdown",
   "metadata": {},
   "source": [
    "Class variable'larına ulaşmak için ya class üzerinden ya da obje üzerinden referans verilmesi gerekir."
   ]
  },
  {
   "cell_type": "code",
   "execution_count": 12,
   "metadata": {},
   "outputs": [
    {
     "data": {
      "text/plain": [
       "1.05"
      ]
     },
     "execution_count": 12,
     "metadata": {},
     "output_type": "execute_result"
    }
   ],
   "source": [
    "emp1.raise_percent"
   ]
  },
  {
   "cell_type": "code",
   "execution_count": 13,
   "metadata": {},
   "outputs": [
    {
     "data": {
      "text/plain": [
       "1.05"
      ]
     },
     "execution_count": 13,
     "metadata": {},
     "output_type": "execute_result"
    }
   ],
   "source": [
    "Employee.raise_percent"
   ]
  },
  {
   "cell_type": "code",
   "execution_count": 14,
   "metadata": {},
   "outputs": [],
   "source": [
    "class Employee:\n",
    "\n",
    "    raise_percent = 1.05\n",
    "\n",
    "    def __init__(self, name, last, age, pay):\n",
    "        self.name = name\n",
    "        self.last = last\n",
    "        self.age = age\n",
    "        self.pay = pay\n",
    "\n",
    "    def apply_raise(self):\n",
    "        self.pay = self.pay * Employee.raise_percent"
   ]
  },
  {
   "cell_type": "code",
   "execution_count": 19,
   "metadata": {},
   "outputs": [
    {
     "name": "stdout",
     "output_type": "stream",
     "text": [
      "\n",
      " James 5250.0 \n",
      " Charlie 6300.0\n"
     ]
    }
   ],
   "source": [
    "emp1 = Employee(\"James\", \"Doe\", \"23\", 5000)\n",
    "emp2 = Employee(\"Charlie\", \"Green\", \"33\", 6000)\n",
    "emp1.apply_raise()\n",
    "emp2.apply_raise()\n",
    "print(\"\\n\", emp1.name, emp1.pay, \"\\n\", emp2.name, emp2.pay)"
   ]
  },
  {
   "cell_type": "code",
   "execution_count": 20,
   "metadata": {},
   "outputs": [],
   "source": [
    "class Employee:\n",
    "\n",
    "    raise_percent = 1.05\n",
    "\n",
    "    def __init__(self, name, last, age, pay):\n",
    "        self.name = name\n",
    "        self.last = last\n",
    "        self.age = age\n",
    "        self.pay = pay\n",
    "\n",
    "    def apply_raise(self):\n",
    "        self.pay = self.pay * self.raise_percent"
   ]
  },
  {
   "cell_type": "code",
   "execution_count": 24,
   "metadata": {},
   "outputs": [
    {
     "name": "stdout",
     "output_type": "stream",
     "text": [
      "James, 5250.0\n",
      "Charlie, 6300.0\n"
     ]
    }
   ],
   "source": [
    "emp1 = Employee(\"James\", \"Doe\", \"23\", 5000)\n",
    "emp2 = Employee(\"Charlie\", \"Green\", \"33\", 6000)\n",
    "emp1.apply_raise()\n",
    "emp2.apply_raise()\n",
    "print(f\"{emp1.name}, {emp1.pay}\\n{emp2.name}, {emp2.pay}\")"
   ]
  },
  {
   "cell_type": "markdown",
   "metadata": {},
   "source": [
    "emp1.raise_percent komutu ilgili değişkeni bulmak için ilk önce instance'ın değerlerini arar, ilgili değişkeni instance'ta bulamazsa class değişkinlerini arar."
   ]
  },
  {
   "cell_type": "code",
   "execution_count": 25,
   "metadata": {},
   "outputs": [
    {
     "name": "stdout",
     "output_type": "stream",
     "text": [
      "Attributes of the instance: {'name': 'James', 'last': 'Doe', 'age': '23', 'pay': 5250.0}\n",
      "\n",
      "Attributes of the class: {'__module__': '__main__', 'raise_percent': 1.05, '__init__': <function Employee.__init__ at 0x000001A55ACDCB80>, 'apply_raise': <function Employee.apply_raise at 0x000001A55ACDCCA0>, '__dict__': <attribute '__dict__' of 'Employee' objects>, '__weakref__': <attribute '__weakref__' of 'Employee' objects>, '__doc__': None}\n"
     ]
    }
   ],
   "source": [
    "print(f\"Attributes of the instance: {emp1.__dict__}\\n\\nAttributes of the class: {Employee.__dict__}\")"
   ]
  },
  {
   "cell_type": "code",
   "execution_count": 30,
   "metadata": {},
   "outputs": [
    {
     "name": "stdout",
     "output_type": "stream",
     "text": [
      "Attributes of the emp1: {'name': 'James', 'last': 'Doe', 'age': '23', 'pay': 5250.0, 'experience': 10}\n",
      "Attributes of the emp2: {'name': 'Charlie', 'last': 'Green', 'age': '33', 'pay': 6300.0}\n"
     ]
    }
   ],
   "source": [
    "emp1.experience = 10\n",
    "print(f\"Attributes of the emp1: {emp1.__dict__}\\nAttributes of the emp2: {emp2.__dict__}\")"
   ]
  },
  {
   "cell_type": "code",
   "execution_count": 31,
   "metadata": {},
   "outputs": [
    {
     "data": {
      "text/plain": [
       "True"
      ]
     },
     "execution_count": 31,
     "metadata": {},
     "output_type": "execute_result"
    }
   ],
   "source": [
    "emp1.raise_percent == emp2.raise_percent and emp1.raise_percent == Employee.raise_percent"
   ]
  },
  {
   "cell_type": "code",
   "execution_count": 32,
   "metadata": {},
   "outputs": [
    {
     "data": {
      "text/plain": [
       "True"
      ]
     },
     "execution_count": 32,
     "metadata": {},
     "output_type": "execute_result"
    }
   ],
   "source": [
    "Employee.raise_percent = 1.06\n",
    "emp1.raise_percent == emp2.raise_percent and emp1.raise_percent == Employee.raise_percent"
   ]
  },
  {
   "cell_type": "markdown",
   "metadata": {},
   "source": [
    "Class variable'ını Class üzerinde değiştirmek tüm instance'ları günceller. Fakat class variable'ını instance üzerinden güncellemek istersek class variable'ı değişmez, bunun yerine instance üzerinde yeni bir attribute oluşturulur ve güncellenmek istenen değer buraya atanır."
   ]
  },
  {
   "cell_type": "code",
   "execution_count": 34,
   "metadata": {},
   "outputs": [
    {
     "data": {
      "text/plain": [
       "False"
      ]
     },
     "execution_count": 34,
     "metadata": {},
     "output_type": "execute_result"
    }
   ],
   "source": [
    "emp1.raise_percent = 0.7\n",
    "emp1.raise_percent == emp2.raise_percent and emp1.raise_percent == Employee.raise_percent"
   ]
  },
  {
   "cell_type": "code",
   "execution_count": 35,
   "metadata": {},
   "outputs": [
    {
     "name": "stdout",
     "output_type": "stream",
     "text": [
      "Attributes of the emp1: {'name': 'James', 'last': 'Doe', 'age': '23', 'pay': 5250.0, 'experience': 10, 'raise_percent': 0.7}\n",
      "Attributes of the emp2: {'name': 'Charlie', 'last': 'Green', 'age': '33', 'pay': 6300.0}\n"
     ]
    }
   ],
   "source": [
    "print(f\"Attributes of the emp1: {emp1.__dict__}\\nAttributes of the emp2: {emp2.__dict__}\")"
   ]
  },
  {
   "cell_type": "markdown",
   "metadata": {},
   "source": [
    "num_emp'ın değeri her yeni instance oluşturulduğunda bir artar. Bu değer class variable olduğu için tüm instance'larda aynıdır."
   ]
  },
  {
   "cell_type": "code",
   "execution_count": 37,
   "metadata": {},
   "outputs": [],
   "source": [
    "class Employee:\n",
    "\n",
    "    raise_percent = 1.05\n",
    "    num_emp = 0\n",
    "\n",
    "    def __init__(self, name, last, age, pay):\n",
    "        self.name = name\n",
    "        self.last = last\n",
    "        self.age = age\n",
    "        self.pay = pay\n",
    "        Employee.num_emp += 1\n",
    "\n",
    "    def apply_raise(self):\n",
    "        self.pay = self.pay * self.raise_percent"
   ]
  },
  {
   "cell_type": "code",
   "execution_count": 38,
   "metadata": {},
   "outputs": [
    {
     "name": "stdout",
     "output_type": "stream",
     "text": [
      "1\n",
      "2\n"
     ]
    }
   ],
   "source": [
    "emp1 = Employee(\"James\", \"Doe\", \"23\", 5000)\n",
    "print(Employee.num_emp)\n",
    "emp2 = Employee(\"Charlie\", \"Green\", \"33\", 6000)\n",
    "print(emp1.num_emp)"
   ]
  },
  {
   "cell_type": "code",
   "execution_count": null,
   "metadata": {},
   "outputs": [],
   "source": []
  }
 ],
 "metadata": {
  "kernelspec": {
   "display_name": "Python 3.9.12 ('base')",
   "language": "python",
   "name": "python3"
  },
  "language_info": {
   "codemirror_mode": {
    "name": "ipython",
    "version": 3
   },
   "file_extension": ".py",
   "mimetype": "text/x-python",
   "name": "python",
   "nbconvert_exporter": "python",
   "pygments_lexer": "ipython3",
   "version": "3.9.12"
  },
  "orig_nbformat": 4,
  "vscode": {
   "interpreter": {
    "hash": "4948d6036df53f9c4e4d7154e6706ebf2eadda82c2f9a07b39338e0decb9a623"
   }
  }
 },
 "nbformat": 4,
 "nbformat_minor": 2
}
