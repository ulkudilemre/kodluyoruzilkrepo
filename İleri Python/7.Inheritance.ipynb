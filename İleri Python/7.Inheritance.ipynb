{
 "cells": [
  {
   "cell_type": "markdown",
   "metadata": {},
   "source": [
    "# Inheritance\n",
    "\n",
    "Bir üst sınıftaki attribut'lara ve method'lara erişimi olan yeni ve farklı class'lardır.\n",
    "\n",
    "Örneğin Emplooye clasının özelliklerine erişen fakat daha özel attribut'lara ve method'lara da kendi içinde sahip olabilen iki farklı IT ve HR sınıfları oluşturabiliriz."
   ]
  },
  {
   "cell_type": "code",
   "execution_count": 1,
   "metadata": {},
   "outputs": [],
   "source": [
    "class Employee:\n",
    "\n",
    "    raise_percent = 1.05\n",
    "    num_emp = 0\n",
    "\n",
    "    def __init__(self, name, last, age, pay):\n",
    "        self.name = name\n",
    "        self.last = last\n",
    "        self.age = age\n",
    "        self.pay = pay\n",
    "        Employee.num_emp += 1\n",
    "\n",
    "    def apply_raise(self):\n",
    "        self.pay = self.pay * self.raise_percent\n",
    "\n",
    "    @classmethod\n",
    "    def set_raise(cls, amount):\n",
    "        cls.raise_percent = amount\n",
    "\n",
    "    @classmethod\n",
    "    def from_string(cls, emp_str):\n",
    "        name, last, age, pay = emp1_str.split(\"-\")\n",
    "        return cls(name, last, int(age), float(pay))\n",
    "\n",
    "    @staticmethod\n",
    "    def holiday_print(day):\n",
    "        if day == \"weekend\":\n",
    "            print(\"This is an off day\")\n",
    "        else:\n",
    "            print(\"This is not off day\")"
   ]
  },
  {
   "cell_type": "markdown",
   "metadata": {},
   "source": [
    "Hangi class'tan inherit etmek istediğimizi parantez içinde belirtiriz.\n",
    "* Inherit ettiğimiz class **parent/superclass**, inherit edene de **child/subclass** denir"
   ]
  },
  {
   "cell_type": "code",
   "execution_count": 2,
   "metadata": {},
   "outputs": [],
   "source": [
    "emp1 = Employee(\"James\", \"Doe\", \"23\", 5000)\n",
    "emp2 = Employee(\"Charlie\", \"Green\", \"33\", 6000)"
   ]
  },
  {
   "cell_type": "code",
   "execution_count": 3,
   "metadata": {},
   "outputs": [],
   "source": [
    "class IT(Employee):\n",
    "    pass"
   ]
  },
  {
   "cell_type": "markdown",
   "metadata": {},
   "source": [
    "* IT'nin içine hiç bir attribute veya method yazmasak da artık Employee class'ının özelliklerine erişimi var.\n",
    "* Python, aradığını IT içerisinde bulamazsa inherit ettiği yerde arayacak. IT içerisinde __init__ metodu yok, bu yüzden Employee classına bakacak."
   ]
  },
  {
   "cell_type": "code",
   "execution_count": 8,
   "metadata": {},
   "outputs": [
    {
     "data": {
      "text/plain": [
       "{'name': 'Marie', 'last': 'Huges', 'age': '25', 'pay': 8000}"
      ]
     },
     "execution_count": 8,
     "metadata": {},
     "output_type": "execute_result"
    }
   ],
   "source": [
    "it1 = IT(\"Marie\", \"Huges\", \"25\", 8000)\n",
    "it1.__dict__"
   ]
  },
  {
   "cell_type": "code",
   "execution_count": 9,
   "metadata": {},
   "outputs": [
    {
     "data": {
      "text/plain": [
       "8400.0"
      ]
     },
     "execution_count": 9,
     "metadata": {},
     "output_type": "execute_result"
    }
   ],
   "source": [
    "it1.apply_raise()\n",
    "it1.pay"
   ]
  },
  {
   "cell_type": "markdown",
   "metadata": {},
   "source": [
    "Employee clasındaki bir attribute'un değerini IT'ler için farklı tutmak istiyorsak aynı bu attributun istenilen değerini IT classında belirtiriz."
   ]
  },
  {
   "cell_type": "code",
   "execution_count": 13,
   "metadata": {},
   "outputs": [
    {
     "data": {
      "text/plain": [
       "12000.0"
      ]
     },
     "execution_count": 13,
     "metadata": {},
     "output_type": "execute_result"
    }
   ],
   "source": [
    "class IT(Employee):\n",
    "    raise_percent = 1.5\n",
    "\n",
    "it1 = IT(\"Marie\", \"Huges\", \"25\", 8000)\n",
    "it1.apply_raise()\n",
    "it1.pay"
   ]
  },
  {
   "cell_type": "markdown",
   "metadata": {},
   "source": [
    "subclass'ta yapılan değişiklikler superclass'ı etkilemez."
   ]
  },
  {
   "cell_type": "code",
   "execution_count": 14,
   "metadata": {},
   "outputs": [
    {
     "data": {
      "text/plain": [
       "1.05"
      ]
     },
     "execution_count": 14,
     "metadata": {},
     "output_type": "execute_result"
    }
   ],
   "source": [
    "Employee.raise_percent"
   ]
  },
  {
   "cell_type": "markdown",
   "metadata": {},
   "source": [
    "Subclass'ın inheritance'larına özel yeni bir attribute eklemek istersek subclass'a özel **\\__init__** metotu yazmamız gerekir.\n",
    "*  **super().\\__init__()** metotu kod tekrarı önler."
   ]
  },
  {
   "cell_type": "code",
   "execution_count": 16,
   "metadata": {},
   "outputs": [
    {
     "data": {
      "text/plain": [
       "'python'"
      ]
     },
     "execution_count": 16,
     "metadata": {},
     "output_type": "execute_result"
    }
   ],
   "source": [
    "class IT(Employee):\n",
    "    raise_percent = 1.5\n",
    "    def __init__(self, name, last, age, pay, lang):\n",
    "        super().__init__(name, last, age, pay)\n",
    "        self.lang = lang\n",
    "\n",
    "it1 = IT(\"Marie\", \"Huges\", \"25\", 8000, \"python\")\n",
    "it1.lang"
   ]
  },
  {
   "cell_type": "code",
   "execution_count": 18,
   "metadata": {},
   "outputs": [
    {
     "name": "stdout",
     "output_type": "stream",
     "text": [
      "This employee has 5 years of experience\n"
     ]
    }
   ],
   "source": [
    "class HR(Employee):\n",
    "    raise_percent = 0.5\n",
    "    def __init__(self, name, last, age, pay, exp):\n",
    "        super().__init__(name, last, age, pay)\n",
    "        self.exp = exp\n",
    "\n",
    "    def print_exp(self):\n",
    "        print(f\"This employee has {self.exp} years of experience\")\n",
    "\n",
    "hr1 = HR(\"Charlie\", \"Eden\", \"40\", 2000, 5)\n",
    "hr1.print_exp()"
   ]
  },
  {
   "cell_type": "code",
   "execution_count": 20,
   "metadata": {},
   "outputs": [
    {
     "data": {
      "text/plain": [
       "True"
      ]
     },
     "execution_count": 20,
     "metadata": {},
     "output_type": "execute_result"
    }
   ],
   "source": [
    "isinstance(hr1, HR)"
   ]
  },
  {
   "cell_type": "code",
   "execution_count": 21,
   "metadata": {},
   "outputs": [
    {
     "data": {
      "text/plain": [
       "True"
      ]
     },
     "execution_count": 21,
     "metadata": {},
     "output_type": "execute_result"
    }
   ],
   "source": [
    "isinstance(hr1, Employee)"
   ]
  },
  {
   "cell_type": "code",
   "execution_count": 23,
   "metadata": {},
   "outputs": [
    {
     "data": {
      "text/plain": [
       "True"
      ]
     },
     "execution_count": 23,
     "metadata": {},
     "output_type": "execute_result"
    }
   ],
   "source": [
    "issubclass(HR, Employee)"
   ]
  },
  {
   "cell_type": "code",
   "execution_count": 24,
   "metadata": {},
   "outputs": [
    {
     "data": {
      "text/plain": [
       "True"
      ]
     },
     "execution_count": 24,
     "metadata": {},
     "output_type": "execute_result"
    }
   ],
   "source": [
    "issubclass(IT, Employee)"
   ]
  },
  {
   "cell_type": "code",
   "execution_count": 25,
   "metadata": {},
   "outputs": [
    {
     "data": {
      "text/plain": [
       "False"
      ]
     },
     "execution_count": 25,
     "metadata": {},
     "output_type": "execute_result"
    }
   ],
   "source": [
    "issubclass(HR, IT)"
   ]
  },
  {
   "cell_type": "code",
   "execution_count": 26,
   "metadata": {},
   "outputs": [
    {
     "name": "stdout",
     "output_type": "stream",
     "text": [
      "Help on class IT in module __main__:\n",
      "\n",
      "class IT(Employee)\n",
      " |  IT(name, last, age, pay, lang)\n",
      " |  \n",
      " |  Method resolution order:\n",
      " |      IT\n",
      " |      Employee\n",
      " |      builtins.object\n",
      " |  \n",
      " |  Methods defined here:\n",
      " |  \n",
      " |  __init__(self, name, last, age, pay, lang)\n",
      " |      Initialize self.  See help(type(self)) for accurate signature.\n",
      " |  \n",
      " |  ----------------------------------------------------------------------\n",
      " |  Data and other attributes defined here:\n",
      " |  \n",
      " |  raise_percent = 1.5\n",
      " |  \n",
      " |  ----------------------------------------------------------------------\n",
      " |  Methods inherited from Employee:\n",
      " |  \n",
      " |  apply_raise(self)\n",
      " |  \n",
      " |  ----------------------------------------------------------------------\n",
      " |  Class methods inherited from Employee:\n",
      " |  \n",
      " |  from_string(emp_str) from builtins.type\n",
      " |  \n",
      " |  set_raise(amount) from builtins.type\n",
      " |  \n",
      " |  ----------------------------------------------------------------------\n",
      " |  Static methods inherited from Employee:\n",
      " |  \n",
      " |  holiday_print(day)\n",
      " |  \n",
      " |  ----------------------------------------------------------------------\n",
      " |  Data descriptors inherited from Employee:\n",
      " |  \n",
      " |  __dict__\n",
      " |      dictionary for instance variables (if defined)\n",
      " |  \n",
      " |  __weakref__\n",
      " |      list of weak references to the object (if defined)\n",
      " |  \n",
      " |  ----------------------------------------------------------------------\n",
      " |  Data and other attributes inherited from Employee:\n",
      " |  \n",
      " |  num_emp = 10\n",
      "\n"
     ]
    }
   ],
   "source": [
    "help(IT)"
   ]
  },
  {
   "cell_type": "code",
   "execution_count": null,
   "metadata": {},
   "outputs": [],
   "source": []
  }
 ],
 "metadata": {
  "kernelspec": {
   "display_name": "Python 3.9.12 ('base')",
   "language": "python",
   "name": "python3"
  },
  "language_info": {
   "codemirror_mode": {
    "name": "ipython",
    "version": 3
   },
   "file_extension": ".py",
   "mimetype": "text/x-python",
   "name": "python",
   "nbconvert_exporter": "python",
   "pygments_lexer": "ipython3",
   "version": "3.9.12"
  },
  "orig_nbformat": 4,
  "vscode": {
   "interpreter": {
    "hash": "4948d6036df53f9c4e4d7154e6706ebf2eadda82c2f9a07b39338e0decb9a623"
   }
  }
 },
 "nbformat": 4,
 "nbformat_minor": 2
}
